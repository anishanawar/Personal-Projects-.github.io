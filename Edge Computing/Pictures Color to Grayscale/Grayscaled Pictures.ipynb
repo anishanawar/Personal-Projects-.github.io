{
 "cells": [
  {
   "cell_type": "code",
   "execution_count": null,
   "metadata": {
    "vscode": {
     "languageId": "plaintext"
    }
   },
   "outputs": [],
   "source": [
    "import numpy as np\n",
    "import ctypes\n",
    "import math\n",
    "import time\n",
    "from scipy import misc,ndimage\n",
    "import matplotlib.pyplot as plt\n",
    "from PIL import Image\n",
    "from numba import jit,prange\n",
    "import requests\n",
    "from io import BytesIO\n",
    "!pip install opencv-python\n",
    "!pip install memory_profiler\n",
    "import cv2\n",
    "%load_ext memory_profiler"
   ]
  },
  {
   "cell_type": "code",
   "execution_count": null,
   "metadata": {
    "vscode": {
     "languageId": "plaintext"
    }
   },
   "outputs": [],
   "source": [
    "import numpy as np\n",
    "from numba import njit"
   ]
  },
  {
   "cell_type": "code",
   "execution_count": null,
   "metadata": {
    "vscode": {
     "languageId": "plaintext"
    }
   },
   "outputs": [],
   "source": [
    "url1=\"http://getwallpapers.com/wallpaper/full/c/a/7/1235918-3000-x-3000-hd-wallpapers-3000x2000-for-hd-1080p.jpg\"\n",
    "url2=\"http://getwallpapers.com/wallpaper/full/c/4/1/1235927-3000-x-3000-hd-wallpapers-3000x2000-screen.jpg\"\n",
    "response1 = requests.get(url1)\n",
    "response2 = requests.get(url2)\n",
    "\n",
    "### These will be used as input arrays, they are all images transformed to numpy arrays\n",
    "#A = Image.open('nature.jpg')\n",
    "# convert image to numpy array\n",
    "A = Image.open(BytesIO(response1.content))\n",
    "A = np.asarray(A)/255\n",
    "A = np.mean(A, axis=2)*255\n",
    "\n",
    "#B = Image.open('sun.jpg')\n",
    "# convert image to numpy array\n",
    "B = Image.open(BytesIO(response2.content))\n",
    "B = np.asarray(B)/255\n",
    "B = np.mean(B, axis=2)*255\n",
    "C=np.random.rand(A.shape[0],A.shape[1])*255"
   ]
  },
  {
   "cell_type": "code",
   "execution_count": null,
   "metadata": {
    "vscode": {
     "languageId": "plaintext"
    }
   },
   "outputs": [],
   "source": [
    "plt.axis('off')\n",
    "plt.imshow(A, cmap='gray')  # Ensure grayscale display\n",
    "plt.show()"
   ]
  },
  {
   "cell_type": "code",
   "execution_count": null,
   "metadata": {
    "vscode": {
     "languageId": "plaintext"
    }
   },
   "outputs": [],
   "source": [
    "plt.axis('off')\n",
    "plt.imshow(B, cmap='gray')  # Ensure grayscale display\n",
    "plt.show()"
   ]
  }
 ],
 "metadata": {
  "language_info": {
   "name": "python"
  }
 },
 "nbformat": 4,
 "nbformat_minor": 2
}
